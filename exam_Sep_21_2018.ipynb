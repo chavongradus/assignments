{
 "cells": [
  {
   "cell_type": "markdown",
   "metadata": {},
   "source": [
    "Before you turn this problem in, make sure everything runs as expected. First, **restart the kernel** (in the menubar, select Kernel$\\rightarrow$Restart) and then **run all cells** (in the menubar, select Cell$\\rightarrow$Run All).\n",
    "\n",
    "Make sure you fill in any place that says `YOUR CODE HERE` or \"YOUR ANSWER HERE\", as well as your name and collaborators below:"
   ]
  },
  {
   "cell_type": "code",
   "execution_count": 7,
   "metadata": {},
   "outputs": [],
   "source": [
    "NAME = \"Chavon Gradus #2008383#\"\n",
    "COLLABORATORS = \"\""
   ]
  },
  {
   "cell_type": "markdown",
   "metadata": {},
   "source": [
    "---"
   ]
  },
  {
   "cell_type": "markdown",
   "metadata": {
    "deletable": false,
    "editable": false,
    "nbgrader": {
     "checksum": "e53eb7da4b90cccdbeb5924177a0d295",
     "grade": false,
     "grade_id": "cell-bace731f185b39bb",
     "locked": true,
     "schema_version": 1,
     "solution": false
    }
   },
   "source": [
    "Fill in the cell above to provide us with your name and student number, like\n",
    "\n",
    "NAME = \"Adam Smith, #student number#\"\n",
    "\n",
    "where you replace \"#student number#\" with your ... (very good!)\n",
    "\n",
    "Unfortunately, you are not allowed to work with \"COLLABORATORS\" in this exam."
   ]
  },
  {
   "cell_type": "markdown",
   "metadata": {
    "deletable": false,
    "editable": false,
    "nbgrader": {
     "checksum": "54f2a7cc5a4285f9082c5f4f2ff532f6",
     "grade": false,
     "grade_id": "cell-895e9a7b94992ec9",
     "locked": true,
     "schema_version": 1,
     "solution": false
    }
   },
   "source": [
    "# exam September 21st, 2018\n",
    "\n",
    "With this python part of the exam you can earn at max. 4 points.\n",
    "\n"
   ]
  },
  {
   "cell_type": "markdown",
   "metadata": {
    "deletable": false,
    "editable": false,
    "nbgrader": {
     "checksum": "611902f9d15318425217ea7c9329d3c4",
     "grade": false,
     "grade_id": "cell-540987818af25557",
     "locked": true,
     "schema_version": 1,
     "solution": false
    }
   },
   "source": [
    "\n",
    "In the first cell of the notebook, give us your name and student number in the way indicated above. \n",
    "\n",
    "Fill in the notebook (see below for code cells and text cells that you need to fill in).\n",
    "\n",
    "If you look at the menus above (File, Edit, View etc.), there is one called \"Cell\". If you click on this, you can change the \"Cell Type\". Choose \"Code\" when you are typing python or R code. Choose \"Markdown\" when you are typing, well, markdown.\n",
    "\n",
    "When you finish the notebook, make sure that you **save it with the output of your code included**. \n",
    "\n",
    "Then put it on github, e.g. by dragging it onto github (see instructions below). \n",
    "\n",
    "Finally, add a link to your README file with the name of this exam: \"Exam September 21, 2018\".\n",
    "\n"
   ]
  },
  {
   "cell_type": "markdown",
   "metadata": {
    "deletable": false,
    "editable": false,
    "nbgrader": {
     "checksum": "fbb9342b1fc9100447270d34e2af2d0b",
     "grade": false,
     "grade_id": "cell-e1cf88cb799f1f43",
     "locked": true,
     "schema_version": 1,
     "solution": false
    }
   },
   "source": [
    "## Generating and plotting data\n",
    "\n",
    "We start by importing the usual libraries."
   ]
  },
  {
   "cell_type": "code",
   "execution_count": 8,
   "metadata": {
    "deletable": false,
    "editable": false,
    "nbgrader": {
     "checksum": "7bd770ef54db47c3b6c8d0e31f6baef6",
     "grade": false,
     "grade_id": "cell-b895769bf40e183a",
     "locked": true,
     "schema_version": 1,
     "solution": false
    }
   },
   "outputs": [],
   "source": [
    "import matplotlib.pyplot as plt\n",
    "import pandas as pd\n",
    "import numpy as np\n",
    "from scipy import optimize\n",
    "%matplotlib inline"
   ]
  },
  {
   "cell_type": "markdown",
   "metadata": {
    "deletable": false,
    "editable": false,
    "nbgrader": {
     "checksum": "1133b2e8cbde213d1adfe10ae743bcb3",
     "grade": false,
     "grade_id": "cell-83284c4090d6de8c",
     "locked": true,
     "schema_version": 1,
     "solution": false
    }
   },
   "source": [
    "#### a) [0.5 point] Explain in words what the following code does. "
   ]
  },
  {
   "cell_type": "code",
   "execution_count": 9,
   "metadata": {
    "deletable": false,
    "editable": false,
    "nbgrader": {
     "checksum": "bc85672d4250f9fa3da40069544edd8a",
     "grade": false,
     "grade_id": "cell-7770128c0a989c60",
     "locked": true,
     "schema_version": 1,
     "solution": false
    }
   },
   "outputs": [],
   "source": [
    "n_observations = 100\n",
    "x = np.random.uniform(0,2,size=n_observations)\n",
    "df = pd.DataFrame({'x': x})"
   ]
  },
  {
   "cell_type": "markdown",
   "metadata": {
    "deletable": false,
    "nbgrader": {
     "checksum": "cae5873581f8c1e95ad12b5596742e37",
     "grade": true,
     "grade_id": "cell-8a5761555a34b60b",
     "locked": false,
     "points": 0.5,
     "schema_version": 1,
     "solution": true
    }
   },
   "source": [
    "n_observations creates random observations of x. There are 100 observations\n",
    "\n",
    "x = np.random.uniform(0,2,size=n_observations) this mean that x has a mean of 0, a SD of 2 \n",
    "\n",
    "df = pd.DataFrame({'x': x}) means that df is created with the column x\n"
   ]
  },
  {
   "cell_type": "markdown",
   "metadata": {
    "deletable": false,
    "editable": false,
    "nbgrader": {
     "checksum": "30021008cb6073d160066f0435f60950",
     "grade": false,
     "grade_id": "cell-1a9c57d4d1fc34dc",
     "locked": true,
     "schema_version": 1,
     "solution": false
    }
   },
   "source": [
    "Now we are going to add some columns to the dataframe `df`."
   ]
  },
  {
   "cell_type": "markdown",
   "metadata": {
    "deletable": false,
    "editable": false,
    "nbgrader": {
     "checksum": "89171c99b0cc926935c561c0e75d0eef",
     "grade": false,
     "grade_id": "cell-3b8ee172d9950128",
     "locked": true,
     "schema_version": 1,
     "solution": false
    }
   },
   "source": [
    "#### b) [0.5 points] Add two columns to the data frame: (i) column `y` where $y=3*x+5$ and (ii) column `z` where $z = (x-1)^2$."
   ]
  },
  {
   "cell_type": "code",
   "execution_count": 17,
   "metadata": {
    "deletable": false,
    "nbgrader": {
     "checksum": "3b93c97ec42f6da5773b2c6beb2a8ec2",
     "grade": true,
     "grade_id": "cell-a5e7853f661e19b2",
     "locked": false,
     "points": 0.5,
     "schema_version": 1,
     "solution": true
    }
   },
   "outputs": [
    {
     "name": "stdout",
     "output_type": "stream",
     "text": [
      "[ 8.05827642  5.46891955 10.64419637  8.89344385  7.90820384  8.4836084\n",
      "  6.03671123  9.21561017  6.11664964  5.03925286  8.85442812  8.90725873\n",
      "  9.98198434  7.43984315 10.30078188  7.58655822  8.14509619 10.01226182\n",
      "  9.98152812  5.57430616  6.13875947  5.48984225  5.42440217  9.19477619\n",
      "  9.94951086  8.85021584  5.67603132  7.95513037  8.19792114 10.87173727\n",
      "  9.70899761  6.97319537  7.61251861  7.01072993  5.39366898  6.78522879\n",
      "  6.76588652  5.62260288  8.34327405  6.87350227  7.89049099  7.63518857\n",
      " 10.00476786  9.97218535  9.75335047  8.17720338  6.39889205  6.39232476\n",
      "  7.06323161  6.20693034  5.57663096  9.51950006  5.62592227  8.93787794\n",
      "  6.8965047   6.58587108  6.75215842  6.76248804  5.92431245  8.12103641\n",
      "  7.16567122 10.31698228  7.795581    6.84919447 10.20037045  7.7436889\n",
      "  9.30340711  7.22410717  9.07116904 10.9747894   6.64934755  8.87785846\n",
      " 10.23431335 10.4214796   9.06074028  5.1161022   7.55073677  5.87297784\n",
      "  7.27763349  9.85784608  9.77233923  8.7159878   8.79155564  8.21834759\n",
      "  5.43712091 10.50965412  6.79463443 10.93236567  9.07985708  6.21861945\n",
      "  9.24700966 10.486874    6.02411006 10.36373316  6.18556964  8.33953894\n",
      "  7.07841986  6.82492304  6.42171801  9.9244447 ]\n",
      "[1.01942547 0.15630652 1.88139879 1.29781462 0.96940128 1.1612028\n",
      " 0.34557041 1.40520339 0.37221655 0.01308429 1.28480937 1.30241958\n",
      " 1.66066145 0.81328105 1.76692729 0.86218607 1.0483654  1.67075394\n",
      " 1.66050937 0.19143539 0.37958649 0.16328075 0.14146739 1.39825873\n",
      " 1.64983695 1.28340528 0.22534377 0.98504346 1.06597371 1.95724576\n",
      " 1.56966587 0.65773179 0.87083954 0.67024331 0.13122299 0.59507626\n",
      " 0.58862884 0.20753429 1.11442468 0.62450076 0.963497   0.87839619\n",
      " 1.66825595 1.65739512 1.58445016 1.05906779 0.46629735 0.46410825\n",
      " 0.68774387 0.40231011 0.19221032 1.50650002 0.20864076 1.31262598\n",
      " 0.63216823 0.52862369 0.58405281 0.58749601 0.30810415 1.04034547\n",
      " 0.72189041 1.77232743 0.93186033 0.61639816 1.73345682 0.91456297\n",
      " 1.43446904 0.74136906 1.35705635 1.99159647 0.54978252 1.29261949\n",
      " 1.74477112 1.80715987 1.35358009 0.03870073 0.85024559 0.29099261\n",
      " 0.75921116 1.61928203 1.59077974 1.2386626  1.26385188 1.07278253\n",
      " 0.14570697 1.83655137 0.59821148 1.97745522 1.35995236 0.40620648\n",
      " 1.41566989 1.828958   0.34137002 1.78791105 0.39518988 1.11317965\n",
      " 0.69280662 0.60830768 0.473906   1.64148157]\n"
     ]
    },
    {
     "data": {
      "text/html": [
       "<div>\n",
       "<style scoped>\n",
       "    .dataframe tbody tr th:only-of-type {\n",
       "        vertical-align: middle;\n",
       "    }\n",
       "\n",
       "    .dataframe tbody tr th {\n",
       "        vertical-align: top;\n",
       "    }\n",
       "\n",
       "    .dataframe thead th {\n",
       "        text-align: right;\n",
       "    }\n",
       "</style>\n",
       "<table border=\"1\" class=\"dataframe\">\n",
       "  <thead>\n",
       "    <tr style=\"text-align: right;\">\n",
       "      <th></th>\n",
       "      <th>x</th>\n",
       "      <th>y</th>\n",
       "      <th>z</th>\n",
       "      <th>z_vector</th>\n",
       "      <th>z2</th>\n",
       "    </tr>\n",
       "  </thead>\n",
       "  <tbody>\n",
       "    <tr>\n",
       "      <th>0</th>\n",
       "      <td>1.019425</td>\n",
       "      <td>8.058276</td>\n",
       "      <td>0.000377</td>\n",
       "      <td>0.157403</td>\n",
       "      <td>0.157780</td>\n",
       "    </tr>\n",
       "    <tr>\n",
       "      <th>1</th>\n",
       "      <td>0.156307</td>\n",
       "      <td>5.468920</td>\n",
       "      <td>0.711819</td>\n",
       "      <td>0.190025</td>\n",
       "      <td>0.901844</td>\n",
       "    </tr>\n",
       "    <tr>\n",
       "      <th>2</th>\n",
       "      <td>1.881399</td>\n",
       "      <td>10.644196</td>\n",
       "      <td>0.776864</td>\n",
       "      <td>0.179306</td>\n",
       "      <td>0.956170</td>\n",
       "    </tr>\n",
       "    <tr>\n",
       "      <th>3</th>\n",
       "      <td>1.297815</td>\n",
       "      <td>8.893444</td>\n",
       "      <td>0.088694</td>\n",
       "      <td>0.025791</td>\n",
       "      <td>0.114485</td>\n",
       "    </tr>\n",
       "    <tr>\n",
       "      <th>4</th>\n",
       "      <td>0.969401</td>\n",
       "      <td>7.908204</td>\n",
       "      <td>0.000936</td>\n",
       "      <td>0.166009</td>\n",
       "      <td>0.166945</td>\n",
       "    </tr>\n",
       "  </tbody>\n",
       "</table>\n",
       "</div>"
      ],
      "text/plain": [
       "          x          y         z  z_vector        z2\n",
       "0  1.019425   8.058276  0.000377  0.157403  0.157780\n",
       "1  0.156307   5.468920  0.711819  0.190025  0.901844\n",
       "2  1.881399  10.644196  0.776864  0.179306  0.956170\n",
       "3  1.297815   8.893444  0.088694  0.025791  0.114485\n",
       "4  0.969401   7.908204  0.000936  0.166009  0.166945"
      ]
     },
     "execution_count": 17,
     "metadata": {},
     "output_type": "execute_result"
    }
   ],
   "source": [
    "df['y'] = 3*x+5\n",
    "df['z'] = (x-1)**2\n",
    "print(y)\n",
    "print(x)\n",
    "df.head()\n",
    "\n",
    "#making new columns names y and z and showing them\n"
   ]
  },
  {
   "cell_type": "markdown",
   "metadata": {
    "deletable": false,
    "editable": false,
    "nbgrader": {
     "checksum": "42f4e83dc3792b0d2a08cda8eb7d4405",
     "grade": false,
     "grade_id": "cell-4b33762aa4a601fe",
     "locked": true,
     "schema_version": 1,
     "solution": false
    }
   },
   "source": [
    "#### c) [0.5 point] Calculate the means and standard deviations for `x` and `y`. \n",
    "\n",
    "[hint: you can do this with one command or with four separate commands]"
   ]
  },
  {
   "cell_type": "code",
   "execution_count": 11,
   "metadata": {
    "deletable": false,
    "nbgrader": {
     "checksum": "024a1519155d681b57c85292df535a65",
     "grade": true,
     "grade_id": "cell-5ee215676b91f504",
     "locked": false,
     "points": 0.5,
     "schema_version": 1,
     "solution": true
    }
   },
   "outputs": [
    {
     "name": "stdout",
     "output_type": "stream",
     "text": [
      "0.5580891685763094\n",
      "1.674267505728928\n",
      "0.9820484610886103\n",
      "7.946145383265833\n"
     ]
    }
   ],
   "source": [
    "st_dev_x = df['x'].std()\n",
    "print(st_dev_x)\n",
    "\n",
    "st_dev_y = df['y'].std()\n",
    "print(st_dev_y)\n",
    "# first al the SD's\n",
    "\n",
    "\n",
    "\n",
    "mean_x = df['x'].mean()\n",
    "print(mean_x)\n",
    "\n",
    "mean_y = df['y'].mean()\n",
    "print(mean_y)\n",
    "#Second al the means"
   ]
  },
  {
   "cell_type": "markdown",
   "metadata": {
    "deletable": false,
    "editable": false,
    "nbgrader": {
     "checksum": "12a2717f05680c0404067457f21dacc5",
     "grade": false,
     "grade_id": "cell-3cc076ae39753881",
     "locked": true,
     "schema_version": 1,
     "solution": false
    }
   },
   "source": [
    "#### d) [0.5 points] Use your knowledge of statistics to explain the relations (i) between the means of `x` and `y` and (ii) between the standard deviations of `x` and `y`."
   ]
  },
  {
   "cell_type": "code",
   "execution_count": 12,
   "metadata": {
    "deletable": false,
    "nbgrader": {
     "checksum": "6ac5f7f87f79a5a580298b70eb6603c6",
     "grade": true,
     "grade_id": "cell-0f18e4fded25833f",
     "locked": false,
     "points": 0.5,
     "schema_version": 1,
     "solution": true
    }
   },
   "outputs": [
    {
     "name": "stdout",
     "output_type": "stream",
     "text": [
      "7.946145383265831\n",
      "1.6742675057289282\n"
     ]
    }
   ],
   "source": [
    "print(3*mean_x+5)\n",
    "#instead of x, you fill in mean of x\n",
    "print(3*st_dev_x)\n"
   ]
  },
  {
   "cell_type": "markdown",
   "metadata": {},
   "source": [
    "#### e) [1 point] Plot a histogram of `x` with fractions (not absolute numbers) on the vertical axis. Add the label $x$ to the horizontal axis."
   ]
  },
  {
   "cell_type": "code",
   "execution_count": 13,
   "metadata": {
    "deletable": false,
    "nbgrader": {
     "checksum": "0f23770a6c058f433beccc75429b57dc",
     "grade": true,
     "grade_id": "cell-e88dc4842fb2c38c",
     "locked": false,
     "points": 1,
     "schema_version": 1,
     "solution": true
    }
   },
   "outputs": [
    {
     "data": {
      "image/png": "[encoded data removed]",
      "text/plain": [
       "<matplotlib.figure.Figure at 0x1517aa1080>"
      ]
     },
     "metadata": {},
     "output_type": "display_data"
    }
   ],
   "source": [
    "plt.xlabel(\"y\")\n",
    "plt.ylabel(\"z\")\n",
    "plt.hist(x,normed = True, bins= 30)\n",
    "plt.xlabel('$X$')\n",
    "plt.show()\n",
    "\n"
   ]
  },
  {
   "cell_type": "markdown",
   "metadata": {
    "deletable": false,
    "editable": false,
    "nbgrader": {
     "checksum": "da92092c0fc6badf93776373de6f98c0",
     "grade": false,
     "grade_id": "cell-9847a5147fc6bc0b",
     "locked": true,
     "schema_version": 1,
     "solution": false
    }
   },
   "source": [
    "#### f) [0.5 points] Make a scatter plot of `y` vs `z` with the label $y$ on the horizontal axis and the label $z$ on the vertical axis."
   ]
  },
  {
   "cell_type": "code",
   "execution_count": 14,
   "metadata": {
    "deletable": false,
    "nbgrader": {
     "checksum": "d9385c965608e0babffe255a7d375e19",
     "grade": true,
     "grade_id": "cell-6c036cfb38c024d3",
     "locked": false,
     "points": 0.5,
     "schema_version": 1,
     "solution": true
    }
   },
   "outputs": [
    {
     "data": {
      "image/png": "[encoded data removed]",
      "text/plain": [
       "<matplotlib.figure.Figure at 0x1520ea3358>"
      ]
     },
     "metadata": {},
     "output_type": "display_data"
    }
   ],
   "source": [
    "y = 3*x + 5\n",
    "z = (x-1)**2\n",
    "\n",
    "plt.xlabel(\"$y$\")\n",
    "plt.ylabel(\"$x$\")\n",
    "plt.scatter(df['z'], df['y'])\n",
    "plt.show()\n"
   ]
  },
  {
   "cell_type": "markdown",
   "metadata": {},
   "source": [
    "This relation looks rather \"perfect\". We want to make a \"noisy\" version of this graph.\n",
    "\n",
    "#### g) [0.5 points] Create a variable `z2` equal to `z` but with some \"noise\" added to it. That is, add a random variable (vector) with mean 0 to `z` to get `z2`. Then plot `y` against `z2`. Adjust the standard deviation of the \"noise\" variable such that the shape of the figure under f) can still be recognized but not perfectly.\n",
    "\n",
    "[hint: under a) you have seen the library that contains functions to create a \"noisy variable\"]"
   ]
  },
  {
   "cell_type": "code",
   "execution_count": 15,
   "metadata": {
    "deletable": false,
    "nbgrader": {
     "checksum": "86b22fc81cb0732c67f8ae691dc00bcb",
     "grade": true,
     "grade_id": "cell-7fa47e5d66a06417",
     "locked": false,
     "points": 0.5,
     "schema_version": 1,
     "solution": true
    }
   },
   "outputs": [
    {
     "data": {
      "image/png": "[encoded data removed]",
      "text/plain": [
       "<matplotlib.figure.Figure at 0x1520eeedd8>"
      ]
     },
     "metadata": {},
     "output_type": "display_data"
    }
   ],
   "source": [
    "n_observations = 100\n",
    "z_vector= np.random.uniform(0,0.2,size=n_observations)\n",
    "df['z_vector'] = z_vector\n",
    "df['z2'] = df['z'] + df['z_vector']\n",
    "\n",
    "\n",
    "plt.xlabel('$Z2$')\n",
    "plt.ylabel('$Y$')\n",
    "plt.scatter(df['z2'], df['y'])\n",
    "plt.show()\n"
   ]
  },
  {
   "cell_type": "markdown",
   "metadata": {},
   "source": [
    "## Github\n",
    "\n",
    "After you have finished, we need to upload this notebook on github."
   ]
  },
  {
   "cell_type": "markdown",
   "metadata": {},
   "source": [
    "Instructions on how to upload this on github can be found [on this page](http://janboone.github.io/programming-for-economists/github.html). This page has two screencasts: one shows how to drag the notebook onto your github page, the other shows how you can use the command line to upload your notebook.\n"
   ]
  },
  {
   "cell_type": "markdown",
   "metadata": {},
   "source": [
    "Remember to update the README file in your repository to include a link to this notebook on github.\n",
    "\n",
    "\n",
    "The links that you should post start with “github.com/” and are NOT of the form “http://localhost”. Make sure you test your links after uploading."
   ]
  },
  {
   "cell_type": "code",
   "execution_count": 16,
   "metadata": {},
   "outputs": [
    {
     "ename": "SyntaxError",
     "evalue": "invalid syntax (<ipython-input-16-de54a3c711f5>, line 1)",
     "output_type": "error",
     "traceback": [
      "\u001b[0;36m  File \u001b[0;32m\"<ipython-input-16-de54a3c711f5>\"\u001b[0;36m, line \u001b[0;32m1\u001b[0m\n\u001b[0;31m    https://github.com/chavongradus/assignments/blob/master/exam_Sep_21_2018.ipynb\u001b[0m\n\u001b[0m           ^\u001b[0m\n\u001b[0;31mSyntaxError\u001b[0m\u001b[0;31m:\u001b[0m invalid syntax\n"
     ]
    }
   ],
   "source": [
    "https://github.com/chavongradus/assignments/blob/master/exam_Sep_21_2018.ipynb"
   ]
  },
  {
   "cell_type": "code",
   "execution_count": null,
   "metadata": {},
   "outputs": [],
   "source": []
  }
 ],
 "metadata": {
  "anaconda-cloud": {},
  "kernelspec": {
   "display_name": "Python 3",
   "language": "python",
   "name": "python3"
  },
  "language_info": {
   "codemirror_mode": {
    "name": "ipython",
    "version": 3
   },
   "file_extension": ".py",
   "mimetype": "text/x-python",
   "name": "python",
   "nbconvert_exporter": "python",
   "pygments_lexer": "ipython3",
   "version": "3.6.4"
  }
 },
 "nbformat": 4,
 "nbformat_minor": 1
}
