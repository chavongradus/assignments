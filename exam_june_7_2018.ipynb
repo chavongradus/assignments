{
 "cells": [
  {
   "cell_type": "markdown",
   "metadata": {},
   "source": [
    "Before you turn this problem in, make sure everything runs as expected. First, **restart the kernel** (in the menubar, select Kernel$\\rightarrow$Restart) and then **run all cells** (in the menubar, select Cell$\\rightarrow$Run All).\n",
    "\n",
    "Make sure you fill in any place that says `YOUR CODE HERE` or \"YOUR ANSWER HERE\", as well as your name and collaborators below:"
   ]
  },
  {
   "cell_type": "code",
   "execution_count": 1,
   "metadata": {},
   "outputs": [],
   "source": [
    "NAME = \"Chavon Gradus #2008383#\"\n",
    "COLLABORATORS = \"Jip Swartjes #2010914#\""
   ]
  },
  {
   "cell_type": "markdown",
   "metadata": {},
   "source": [
    "---"
   ]
  },
  {
   "cell_type": "markdown",
   "metadata": {},
   "source": [
    "Fill in the cell above to provide us with your name and student number, like\n",
    "\n",
    "NAME = \"Adam Smith, #student number#\"\n",
    "\n",
    "where you replace \"#student number#\" with your ... (very good!)\n",
    "\n",
    "and if you are doing this with someone else (not more than one other person):\n",
    "\n",
    "COLLABORATORS = \"Karl Marx, #student number#\""
   ]
  },
  {
   "cell_type": "markdown",
   "metadata": {
    "deletable": false,
    "editable": false,
    "nbgrader": {
     "checksum": "a7ae5c69becf064d614c6c38935eca51",
     "grade": false,
     "grade_id": "cell-895e9a7b94992ec9",
     "locked": true,
     "schema_version": 1,
     "solution": false
    }
   },
   "source": [
    "# exam June 7th, 2018\n"
   ]
  },
  {
   "cell_type": "markdown",
   "metadata": {
    "deletable": false,
    "editable": false,
    "nbgrader": {
     "checksum": "bc48d165f54aa364aa34509649fcdef5",
     "grade": false,
     "grade_id": "cell-540987818af25557",
     "locked": true,
     "schema_version": 1,
     "solution": false
    }
   },
   "source": [
    "\n",
    "In the first cell of the notebook, give us your name and student number in the way indicated above. If you do this notebook with --at max.-- one other student, give her/his name and student number as well under \"COLLABORATORS\".\n",
    "\n",
    "Fill in the notebook (see below for code cells and text cells that you need to fill in).\n",
    "\n",
    "If you look at the menus above (File, Edit, View etc.), there is one called \"Cell\". If you click on this, you can change the \"Cell Type\". Choose \"Code\" when you are typing python or R code. Choose \"Markdown\" when you are typing, well, markdown.\n",
    "\n",
    "When you finish the notebook, make sure that you **save it with the output of your code included**. \n",
    "\n",
    "Then put it on github, e.g. by dragging it onto github (see instructions below). \n",
    "\n",
    "Finally, add a link to your README file with the name of this exam: \"Exam June 7, 2018\".\n",
    "\n"
   ]
  },
  {
   "cell_type": "markdown",
   "metadata": {
    "deletable": false,
    "editable": false,
    "nbgrader": {
     "checksum": "6fad9bed312da1b0097e9c520b18e3fb",
     "grade": false,
     "grade_id": "cell-e1cf88cb799f1f43",
     "locked": true,
     "schema_version": 1,
     "solution": false
    }
   },
   "source": [
    "## price effects of mergers\n",
    "\n",
    "We consider a merger in this notebook. \n",
    "\n",
    "First we calculate the equilibrium with three firms, denoted by 1, 2 and 3. Then firms 2 and 3 merge so that we are left with 2 firms; denoted by 1 and 2.\n",
    "\n",
    "We calculate the effects of the merger on the equilibrium price.\n",
    "\n",
    "We start by importing the usual libraries."
   ]
  },
  {
   "cell_type": "code",
   "execution_count": 2,
   "metadata": {
    "deletable": false,
    "editable": false,
    "nbgrader": {
     "checksum": "7bd770ef54db47c3b6c8d0e31f6baef6",
     "grade": false,
     "grade_id": "cell-b895769bf40e183a",
     "locked": true,
     "schema_version": 1,
     "solution": false
    }
   },
   "outputs": [],
   "source": [
    "import matplotlib.pyplot as plt\n",
    "import pandas as pd\n",
    "import numpy as np\n",
    "from scipy import optimize\n",
    "%matplotlib inline"
   ]
  },
  {
   "cell_type": "markdown",
   "metadata": {},
   "source": [
    "The following code helps to calculate the equilibrium for the case with 3 firms. Note that you have seen similar code during the tutorials to calculate the equilibrium with 2 firms.\n",
    "\n",
    "We assume that before the merger each firm has constant marginal costs equal to 0.3. We assume a simple linear (inverse) demand curve of the form $p=1-Q$ where $p$ denotes price and $Q$ total output on the market. Total output equals the sum of each firm's output: $Q= q_1 + q_2+q_3$."
   ]
  },
  {
   "cell_type": "code",
   "execution_count": 3,
   "metadata": {
    "deletable": false,
    "editable": false,
    "nbgrader": {
     "checksum": "3e30f7ac9d9155ef089b8ca56a0c0436",
     "grade": false,
     "grade_id": "cell-f97a25efed556fd2",
     "locked": true,
     "schema_version": 1,
     "solution": false
    }
   },
   "outputs": [],
   "source": [
    "c0 = 0.3\n",
    "vector_c = [c0]*3\n",
    "\n",
    "def p(Q):\n",
    "    return 1 - Q\n",
    "\n",
    "def costs(q,c):\n",
    "    return c*q\n",
    "\n",
    "def profits(q,Q_other,c):\n",
    "    return p(q+Q_other)*q-costs(q,c)\n",
    "\n",
    "def reaction(Q_other,c):\n",
    "    q1 =  optimize.fminbound(lambda x: -profits(x,Q_other,c),0,1,full_output=1)\n",
    "    return q1[0]\n",
    "\n",
    "def fixed_point_three_firms(vector_q,vector_c):\n",
    "    return [vector_q[0]-reaction(vector_q[1]+vector_q[2],vector_c[0]),\n",
    "            vector_q[1]-reaction(vector_q[0]+vector_q[2],vector_c[1]),\n",
    "            vector_q[2]-reaction(vector_q[0]+vector_q[1],vector_c[2])]\n",
    "\n"
   ]
  },
  {
   "cell_type": "markdown",
   "metadata": {
    "deletable": false,
    "editable": false,
    "nbgrader": {
     "checksum": "f6ea3b2416aca7293a5450c45865f242",
     "grade": false,
     "grade_id": "cell-83284c4090d6de8c",
     "locked": true,
     "schema_version": 1,
     "solution": false
    }
   },
   "source": [
    "#### a) [0.5 points] Show that total equilibrium output equals  0.525. Derive the equilibrium price and Herfindahl index; denote these by `P0` and `H0` resp."
   ]
  },
  {
   "cell_type": "code",
   "execution_count": 4,
   "metadata": {
    "deletable": false,
    "nbgrader": {
     "checksum": "a06d73c35395adb00480733b458cb4a5",
     "grade": true,
     "grade_id": "cell-3b8ee172d9950128",
     "locked": false,
     "points": 0.5,
     "schema_version": 1,
     "solution": true
    },
    "scrolled": true
   },
   "outputs": [
    {
     "data": {
      "text/plain": [
       "array([0.175, 0.175, 0.175])"
      ]
     },
     "execution_count": 4,
     "metadata": {},
     "output_type": "execute_result"
    }
   ],
   "source": [
    "initial_guess = [0.17,0.17,0.17]\n",
    "\n",
    "optimize.fsolve(lambda q: fixed_point_three_firms(q,[0.3,0.3,0.3]), initial_guess)\n"
   ]
  },
  {
   "cell_type": "code",
   "execution_count": 5,
   "metadata": {},
   "outputs": [
    {
     "name": "stdout",
     "output_type": "stream",
     "text": [
      "0.5249999999999999\n"
     ]
    }
   ],
   "source": [
    "total_equilibrium_output = sum(optimize.fsolve(lambda q: fixed_point_three_firms(q,[0.3,0.3,0.3]), initial_guess))\n",
    "print(total_equilibrium_output)"
   ]
  },
  {
   "cell_type": "code",
   "execution_count": 6,
   "metadata": {},
   "outputs": [
    {
     "name": "stdout",
     "output_type": "stream",
     "text": [
      "0.475\n"
     ]
    }
   ],
   "source": [
    "def p(Q):\n",
    "    return 1-Q\n",
    "\n",
    "PO = 1 - 0.525\n",
    "print(PO)"
   ]
  },
  {
   "cell_type": "code",
   "execution_count": 7,
   "metadata": {},
   "outputs": [
    {
     "name": "stdout",
     "output_type": "stream",
     "text": [
      "0.33326667\n"
     ]
    }
   ],
   "source": [
    "HO = 0.3333**2 + 0.3333**2 + 0.3333**2\n",
    "print(HO)"
   ]
  },
  {
   "cell_type": "markdown",
   "metadata": {
    "deletable": false,
    "editable": false,
    "nbgrader": {
     "checksum": "87b3b3e0e2d645c280e279312e489dc4",
     "grade": false,
     "grade_id": "cell-4b33762aa4a601fe",
     "locked": true,
     "schema_version": 1,
     "solution": false
    }
   },
   "source": [
    "#### b) [0.5 point] Define a function `fixed_point_two_firms` with the same structure as the function `fixed_point_three_firms` above, except that it derives the equilibrium output levels for a duopoly (two firms). Test this function by showing that each of the two firms produces 0.3333 in case both firms have zero costs."
   ]
  },
  {
   "cell_type": "code",
   "execution_count": 8,
   "metadata": {
    "deletable": false,
    "nbgrader": {
     "checksum": "024a1519155d681b57c85292df535a65",
     "grade": true,
     "grade_id": "cell-5ee215676b91f504",
     "locked": false,
     "points": 0.5,
     "schema_version": 1,
     "solution": true
    }
   },
   "outputs": [],
   "source": [
    "cO = 0.3\n",
    "vector_c = [cO]*3\n",
    "\n",
    "def p(Q):\n",
    "    return 1 - Q\n",
    "\n",
    "def costs (q,c):\n",
    "    return c*q\n",
    "\n",
    "def profits (q,Q_other,c):\n",
    "    return p(q+Q_other)*q-costs(q,c)\n",
    "\n",
    "def reaction(Q_other,c):\n",
    "    ql = optimize.fminbound(lambda x: -profits(x,Q_other,c),0,1,full_output=1)\n",
    "    return ql[0]\n",
    "\n",
    "def fixed_point_two_firms(vector_q,vector_c):\n",
    "    return [vector_q[0]-reaction(vector_q[1],vector_c[0]), vector_q[1]-reaction(vector_q[0],vector_c[1])]\n"
   ]
  },
  {
   "cell_type": "code",
   "execution_count": 9,
   "metadata": {},
   "outputs": [
    {
     "data": {
      "text/plain": [
       "array([0.33333333, 0.33333333])"
      ]
     },
     "execution_count": 9,
     "metadata": {},
     "output_type": "execute_result"
    }
   ],
   "source": [
    "initial_guess = [0.3,0.3]\n",
    "\n",
    "optimize.fsolve(lambda q:fixed_point_two_firms(q,[0,0]), initial_guess)"
   ]
  },
  {
   "cell_type": "markdown",
   "metadata": {
    "deletable": false,
    "editable": false,
    "nbgrader": {
     "checksum": "5291fc8716e367572fde17ebe5844d2f",
     "grade": false,
     "grade_id": "cell-c2fada02efd7b197",
     "locked": true,
     "schema_version": 1,
     "solution": false
    }
   },
   "source": [
    "The Dutch competition authority, ACM, is asked to evaluate the effects of a merger between firms 2 and 3. Firms 2 and 3 claim that by merging they can reduce their constant marginal costs. But it is not clear by how much they will reduce their costs.\n",
    "\n",
    "The ACM assumes that the marginal cost level of the merged firm is uniformly distributed between 0 and the current marginal cost level `c0`. The merger will not affect the marginal cost level of firm 1 who does not merge. Firm 1's cost level remains `c0`.\n",
    "\n",
    "The next cell generates a vector of cost levels for the merged firm, denoted `c_after_merger`. Evaluate \"c_after_merger\" in a separate cell if you do not understand the command that defines it.\n",
    "\n",
    "Then it calculates the equilibrium output levels for (the non-merging) firm 1 and (the merged) firm 2.\n",
    "\n",
    "Note that you need to specify `initial_guess`.\n"
   ]
  },
  {
   "cell_type": "code",
   "execution_count": 10,
   "metadata": {},
   "outputs": [],
   "source": [
    "initial_guess = [0.17,0.33]"
   ]
  },
  {
   "cell_type": "code",
   "execution_count": 11,
   "metadata": {
    "deletable": false,
    "editable": false,
    "nbgrader": {
     "checksum": "11299317cd53e31de9900700999b0324",
     "grade": false,
     "grade_id": "cell-ce91ab3e3225c57d",
     "locked": true,
     "schema_version": 1,
     "solution": false
    }
   },
   "outputs": [],
   "source": [
    "c_after_merger = np.random.uniform(0,c0,size = 100)\n",
    "\n",
    "q1_after_merger = [optimize.fsolve(lambda q: fixed_point_two_firms(q,[c0,c]), initial_guess)[0] for c in c_after_merger]\n",
    "q2_after_merger = [optimize.fsolve(lambda q: fixed_point_two_firms(q,[c0,c]), initial_guess)[1] for c in c_after_merger]\n",
    "\n",
    "\n"
   ]
  },
  {
   "cell_type": "markdown",
   "metadata": {
    "deletable": false,
    "editable": false,
    "nbgrader": {
     "checksum": "2b518306d6ff20ee42d0bc3085333095",
     "grade": false,
     "grade_id": "cell-0acc18b4f07a09f4",
     "locked": true,
     "schema_version": 1,
     "solution": false
    }
   },
   "source": [
    "#### c) [0.5 points] Create a dataframe called `df_after_merger` with three columns: `c_merged_firm`, `output_non_merging_firm`, `output_merged_firm` containing resp. the cost level of the merged firm, the output level of firm 1 and the output level of firm 2."
   ]
  },
  {
   "cell_type": "code",
   "execution_count": 12,
   "metadata": {
    "deletable": false,
    "nbgrader": {
     "checksum": "f4fc6a3bdef91fa3f656ccd3290c9f54",
     "grade": true,
     "grade_id": "cell-f3eacda828774f2d",
     "locked": false,
     "points": 0.5,
     "schema_version": 1,
     "solution": true
    }
   },
   "outputs": [
    {
     "name": "stdout",
     "output_type": "stream",
     "text": [
      "[0.26205513 0.22673581 0.11191642 0.27041184 0.29124753 0.28770874\n",
      " 0.26716933 0.28005706 0.12021231 0.02828465 0.22037482 0.08738042\n",
      " 0.25452439 0.27241651 0.28280603 0.06173514 0.17882302 0.0748436\n",
      " 0.09970065 0.20671317 0.08703166 0.25041581 0.06494681 0.28249935\n",
      " 0.08253995 0.14958414 0.24692203 0.07124285 0.2529231  0.28772726\n",
      " 0.24064462 0.22232483 0.26246739 0.19030231 0.26326982 0.18756898\n",
      " 0.27177696 0.29862476 0.16701889 0.20003308 0.00647071 0.07202092\n",
      " 0.07062675 0.24373659 0.23183106 0.06524304 0.28381196 0.07987377\n",
      " 0.19194024 0.28676072 0.05098267 0.08495042 0.00761245 0.25062024\n",
      " 0.12460944 0.28052897 0.29532971 0.01934996 0.04185404 0.12719829\n",
      " 0.01692725 0.10902508 0.18868088 0.11582888 0.13425602 0.21034941\n",
      " 0.03007512 0.26160243 0.05025581 0.1623533  0.27727954 0.20621932\n",
      " 0.19724722 0.14872117 0.0571781  0.17353939 0.01205877 0.23599925\n",
      " 0.28310729 0.05003693 0.07948687 0.07327531 0.11471559 0.24330378\n",
      " 0.21714116 0.03477424 0.08570505 0.22550999 0.07650674 0.10018642\n",
      " 0.01353438 0.00577769 0.12936501 0.10437406 0.04741092 0.05360816\n",
      " 0.14452719 0.28211074 0.10067957 0.20348929]\n",
      "[0.17016682837839395, 0.17384029013165553, 0.21234401864501487, 0.1512756069873777, 0.191905320897956, 0.22214202815189535, 0.15993203183608107, 0.20937868707606336, 0.21539504344877605, 0.22363126488005783, 0.13714287021204266, 0.21665466327307994, 0.2290401264271199, 0.15892990196888446, 0.1545598102377884, 0.22601686195822235, 0.217417078011364, 0.1756284055972094, 0.1912770812159818, 0.15531941116977865, 0.1935739398002257, 0.15752050261651304, 0.15382272972287925, 0.16116342103193704, 0.18178448233675917, 0.14534874798497308, 0.1690851488223037, 0.20349006471642805, 0.1908615651512098, 0.17186899583136042, 0.20230701467296267, 0.19024468561319235, 0.16532861235248011, 0.18989330110723776, 0.22939330357767893, 0.1397279708608835, 0.1501790076708956, 0.2198041605154739, 0.148435100458603, 0.1619427932122241, 0.20274123888284976, 0.18631707399596584, 0.22213033731590337, 0.17998834941395717, 0.19921539467447177, 0.18857649011788427, 0.15870242953980668, 0.18807463256869247, 0.1649140143845584, 0.192888790394052, 0.2159749522789426, 0.2203226425906875, 0.1809343139723024, 0.16799478529697193, 0.17038139818791195, 0.23110176886419817, 0.20994443764614862, 0.20001193496486097, 0.13954329709094104, 0.20739930043639324, 0.162626003763398, 0.16494438183326235, 0.14264730684830124, 0.16810729895590426, 0.20996596509943033, 0.2088241919116551, 0.2063982325453023, 0.15532784631530377, 0.14370175441161823, 0.2174209116974739, 0.18824766749422372, 0.2230453304079746, 0.15126266617882095, 0.1533100650015458, 0.17551447913022813, 0.18105561873929388, 0.17494566083247917, 0.18079596925423386, 0.21749142245712239, 0.14971680223040995, 0.15362512287168165, 0.2076452436169885, 0.22881823373871016, 0.19051430735602382, 0.16950991848795366, 0.1890076751341519, 0.18799366054570604, 0.20919125287433207, 0.15939121041559653, 0.14613898364015251, 0.2183554081364636, 0.14167735791201636, 0.173625538918601, 0.15332713100953566, 0.13723410202258596, 0.13547023172591555, 0.18590651701655092, 0.1837308016702152, 0.21016059500349274, 0.2248800956680416]\n",
      "[0.35966634324321267, 0.35231941973668895, 0.27531196270997066, 0.3974487860252445, 0.316189358204088, 0.2557159436962088, 0.38013593632783776, 0.2812426258478734, 0.26920991310244846, 0.2527374702398843, 0.42571425957591535, 0.26669067345384, 0.24191974714576062, 0.3821401960622314, 0.3908803795244232, 0.2479662760835557, 0.265165843977272, 0.34874318880558114, 0.31744583756803585, 0.3893611776604421, 0.31285212039954907, 0.384958994766974, 0.39235454055424096, 0.3776731579361259, 0.33643103532648105, 0.4093025040300532, 0.3618297023553926, 0.29301987056714435, 0.31827686969758034, 0.3562620083372791, 0.2953859706540747, 0.3195106287736159, 0.36934277529503984, 0.3202133977855248, 0.24121339284464166, 0.4205440582782326, 0.3996419846582091, 0.26039167896905263, 0.40312979908279467, 0.37611441357555236, 0.294517522234301, 0.3273658520080683, 0.25573932536819327, 0.34002330117208523, 0.30156921065105635, 0.32284701976423197, 0.3825951409203871, 0.3238507348626149, 0.370171971230883, 0.314222419211896, 0.26805009544211483, 0.25935471481862454, 0.3381313720553953, 0.3640104294060555, 0.35923720362417555, 0.2377964622716038, 0.2801111247077033, 0.2999761300702785, 0.42091340581811765, 0.28520139912721326, 0.3747479924732034, 0.37011123633347537, 0.4147053863033981, 0.36378540208819143, 0.2800680698011396, 0.2823516161766892, 0.2872035349093957, 0.3893443073693918, 0.412596491176763, 0.2651581766050524, 0.3235046650115521, 0.2539093391840508, 0.3974746676423583, 0.39337986999690777, 0.34897104173954413, 0.3378887625214128, 0.3501086783350411, 0.33840806149153213, 0.2650171550857551, 0.40056639553918016, 0.39274975425663666, 0.28470951276602297, 0.24236353252257967, 0.3189713852879528, 0.3609801630240921, 0.32198464973169627, 0.32401267890858787, 0.2816174942513355, 0.3812175791688076, 0.4077220327196956, 0.2632891837270728, 0.41664528417596725, 0.35274892216279735, 0.39334573798092876, 0.42553179595482876, 0.4290595365481696, 0.32818696596689806, 0.3325383966595695, 0.27967880999301514, 0.2502398086639173]\n"
     ]
    }
   ],
   "source": [
    "c_merged_firm = np.random.uniform(0, c0, size = 100)\n",
    "output_non_merging_firm = [optimize.fsolve(lambda q: fixed_point_two_firms(q,[c0,c]), initial_guess)[0] for c in c_after_merger]\n",
    "output_merged_firm = [optimize.fsolve(lambda q: fixed_point_two_firms(q,[c0,c]), initial_guess)[1] for c in c_after_merger]\n",
    "print(c_merged_firm)\n",
    "print(output_non_merging_firm)\n",
    "print(output_merged_firm)"
   ]
  },
  {
   "cell_type": "code",
   "execution_count": 13,
   "metadata": {},
   "outputs": [
    {
     "data": {
      "text/html": [
       "<div>\n",
       "<style scoped>\n",
       "    .dataframe tbody tr th:only-of-type {\n",
       "        vertical-align: middle;\n",
       "    }\n",
       "\n",
       "    .dataframe tbody tr th {\n",
       "        vertical-align: top;\n",
       "    }\n",
       "\n",
       "    .dataframe thead th {\n",
       "        text-align: right;\n",
       "    }\n",
       "</style>\n",
       "<table border=\"1\" class=\"dataframe\">\n",
       "  <thead>\n",
       "    <tr style=\"text-align: right;\">\n",
       "      <th></th>\n",
       "      <th>c_merged_firm</th>\n",
       "      <th>output_merged_firm</th>\n",
       "      <th>output_non_merging_firm</th>\n",
       "    </tr>\n",
       "  </thead>\n",
       "  <tbody>\n",
       "    <tr>\n",
       "      <th>0</th>\n",
       "      <td>0.099452</td>\n",
       "      <td>0.394866</td>\n",
       "      <td>0.152567</td>\n",
       "    </tr>\n",
       "    <tr>\n",
       "      <th>1</th>\n",
       "      <td>0.101581</td>\n",
       "      <td>0.248477</td>\n",
       "      <td>0.225761</td>\n",
       "    </tr>\n",
       "    <tr>\n",
       "      <th>2</th>\n",
       "      <td>0.010639</td>\n",
       "      <td>0.380898</td>\n",
       "      <td>0.159551</td>\n",
       "    </tr>\n",
       "    <tr>\n",
       "      <th>3</th>\n",
       "      <td>0.040009</td>\n",
       "      <td>0.274841</td>\n",
       "      <td>0.212579</td>\n",
       "    </tr>\n",
       "    <tr>\n",
       "      <th>4</th>\n",
       "      <td>0.206426</td>\n",
       "      <td>0.298623</td>\n",
       "      <td>0.200689</td>\n",
       "    </tr>\n",
       "  </tbody>\n",
       "</table>\n",
       "</div>"
      ],
      "text/plain": [
       "   c_merged_firm  output_merged_firm  output_non_merging_firm\n",
       "0       0.099452            0.394866                 0.152567\n",
       "1       0.101581            0.248477                 0.225761\n",
       "2       0.010639            0.380898                 0.159551\n",
       "3       0.040009            0.274841                 0.212579\n",
       "4       0.206426            0.298623                 0.200689"
      ]
     },
     "execution_count": 13,
     "metadata": {},
     "output_type": "execute_result"
    }
   ],
   "source": [
    "c_merged_firm = np.random.uniform(0,c0,size = 100)\n",
    "output_non_merging_firm = [optimize.fsolve(lambda q: fixed_point_two_firms(q,[c0,c]), initial_guess)[0] for c in c_after_merger]\n",
    "output_merged_firm = [optimize.fsolve(lambda q: fixed_point_two_firms(q,[c0,c]), initial_guess)[1] for c in c_after_merger]\n",
    "\n",
    "d = {\"c_merged_firm\" : [0.0994516, 0.10158101, 0.01063869, 0.04000915, 0.20642595, 0.16027914,\n",
    " 0.06702787, 0.22895568, 0.02842178, 0.1820986,  0.28541506, 0.24165426,\n",
    " 0.05335309, 0.29977617, 0.04535462, 0.25040444, 0.25316993, 0.00936518,\n",
    " 0.16005879, 0.07561174, 0.28680967, 0.27436744, 0.27660376, 0.06057441,\n",
    " 0.18672631, 0.17000706, 0.02053597, 0.26086582, 0.0594713,  0.27555222,\n",
    " 0.18651953, 0.26176123, 0.07356432, 0.29628222, 0.27207704, 0.08797635,\n",
    " 0.22604007, 0.17078956, 0.1867662, 0.20319565, 0.11898284, 0.03340563,\n",
    " 0.11329007, 0.01567811, 0.14212559, 0.12355679, 0.26126708, 0.28484158,\n",
    " 0.02529506, 0.05676232, 0.04783566, 0.07462524, 0.1166155,  0.03622193,\n",
    " 0.13160166, 0.20929717, 0.18831309, 0.2685396,  0.20858706, 0.04825272,\n",
    " 0.16297424, 0.13149478, 0.15362401, 0.26171983, 0.10787453, 0.22496504,\n",
    " 0.18319711, 0.06958299, 0.03304312, 0.07610926, 0.20737288, 0.20316658,\n",
    " 0.29501042, 0.15706661, 0.14633905, 0.22061739, 0.04321556, 0.14250859,\n",
    " 0.14324642, 0.15025253, 0.15929815, 0.06163144, 0.26764469, 0.28637354,\n",
    " 0.07915072, 0.21390437, 0.1701998, 0.03207456, 0.02637194, 0.24818689,\n",
    " 0.26946086, 0.16502705, 0.25741879, 0.27628862, 0.14009008, 0.26514784,\n",
    " 0.03739473, 0.09985946, 0.05048761, 0.14397507],\n",
    "     \"output_non_merging_firm\": [0.15256711775691278, 0.22576142077799932, 0.15955116029861663, 0.212579288354894, 0.20068850137017116, 0.13915117637161284, 0.17659839110630915, 0.1349390566116309, 0.17883889348164647, 0.23092994602987146, 0.17653380066298752, 0.21153420844169116, 0.14195171908406184, 0.15786478822087768, 0.19127854672695116, 0.17428863330338273, 0.18910472847893547, 0.14117451566306827, 0.2041341098030329, 0.15337395435513543, 0.1586062441211734, 0.18399686835554857, 0.22711881157806793, 0.23150866655902821, 0.20808485338517496, 0.20152046904657908, 0.19267844429443662, 0.21252461801890668, 0.16624143577407516, 0.1348877785691146, 0.18485130730991903, 0.22641275913210357, 0.14739179607828665, 0.23252511848602253, 0.1727226283998884, 0.21517558375936732, 0.20620433562987472, 0.1543624896957784, 0.16453573318333192, 0.20010986930210362, 0.1948904415372526, 0.1743285188989091, 0.14165389688789315, 0.13403890555136772, 0.20888596438413976, 0.16191353975429698, 0.2145517843724339, 0.19570728542105784, 0.1512834728197086, 0.18020200647571177, 0.20590016951046827, 0.2284829560017521, 0.1555696020788468, 0.17199951000004882, 0.21967770767373793, 0.22832228796747314, 0.16612013017465357, 0.20437898618664216, 0.19819051894380732, 0.1867022883684772, 0.1951063487878187, 0.1969622413236849, 0.13962158418174575, 0.18414904681518038, 0.14682933249519378, 0.16687545506471105, 0.13525967382017673, 0.22584580744965815, 0.182469524178438, 0.2073504469806956, 0.22163635772611245, 0.21327669545116948, 0.22642386753124674, 0.1501301166289394, 0.22470390323566644, 0.2047259401432847, 0.2135908426941657, 0.1870787541183584, 0.1993937224956539, 0.1601788156377563, 0.16050328936756428, 0.1675936143619595, 0.17419776658161415, 0.15633718842415575, 0.16711649440522533, 0.21745126337902443, 0.1852139375771324, 0.21762796507097149, 0.14993880482629446, 0.17079956059277412, 0.20342346823227034, 0.21165150469374142, 0.16407030067847306, 0.18724289678362557, 0.19624821409214901, 0.1555294378498042, 0.1870761790577496, 0.1639792437171315, 0.2287208725493979, 0.21673179218491886],\n",
    "     \"output_merged_firm\" : [0.3948657644861748, 0.24847715844400192, 0.3808976794027672, 0.27484142329021194, 0.2986229972596577, 0.4216976472567748, 0.34680321778738166, 0.4301218867767382, 0.3423222130367069, 0.23814010794025717, 0.3469323986740256, 0.2769315831166178, 0.4160965618318764, 0.3842704235582441, 0.3174429065460972, 0.35142273339323454, 0.32179054304212956, 0.41765096867386425, 0.2917317803939341, 0.3932520912897298, 0.3827875117576533, 0.332006263288903, 0.24576237684386423, 0.23698266688194344, 0.2838302932296504, 0.29695906190684185, 0.3146431114111267, 0.27495076396218665, 0.36751712845184964, 0.4302244428617702, 0.3302973853801613, 0.24717448173579304, 0.4052164078434266, 0.2349497630279554, 0.3545547432002233, 0.2696488324812652, 0.28759132874025056, 0.39127502060844344, 0.37092853363333633, 0.2997802613957934, 0.31021911692549536, 0.3513429622021813, 0.41669220622421377, 0.43192218889726464, 0.28222807123172006, 0.37617292049140655, 0.27089643125513263, 0.3085854291578842, 0.3974330543605825, 0.33959598704857646, 0.28819966097906385, 0.2430340879964959, 0.3888607958423065, 0.3560009799999022, 0.26064458465252455, 0.24335542406505387, 0.36775973965069286, 0.29124202762671514, 0.30361896211238526, 0.3265954232630452, 0.30978730242436303, 0.30607551735263017, 0.42075683163650845, 0.3317019063696391, 0.4063413350096123, 0.36624908987057775, 0.4294806523596474, 0.24830838510068362, 0.3350609516431239, 0.2852991060386089, 0.25672728454777494, 0.273446609097661, 0.24715226493750642, 0.399739766742121, 0.25059219352866696, 0.2905481197134309, 0.27281831461166856, 0.32584249176328256, 0.30121255500869215, 0.3796423687244874, 0.3789934212648715, 0.3648127712760815, 0.35160446683677166, 0.38732562315168856, 0.3657670111895494, 0.2650974732419513, 0.3295721248457353, 0.2647440698580567, 0.4001223903474111, 0.3584008788144517, 0.2931530635354598, 0.2766969906125167, 0.37185939864305445, 0.32551420643274875, 0.307503571815702, 0.3889411243003917, 0.3258476418845007, 0.372041512565737, 0.24255825490120417, 0.26653641563016206]}\n",
    "\n",
    "df_after_merger = pd.DataFrame(data = d)\n",
    "df_after_merger.head()"
   ]
  },
  {
   "cell_type": "markdown",
   "metadata": {
    "deletable": false,
    "editable": false,
    "nbgrader": {
     "checksum": "a5bf4171960844da9c57375d83b6eedf",
     "grade": false,
     "grade_id": "cell-7ad058be42e19df8",
     "locked": true,
     "schema_version": 1,
     "solution": false
    }
   },
   "source": [
    "#### d) [0.5 points] Add three columns to the dataframe with resp. total equilibrium output on the market, `Q`, equilibrium price, `P` and the Herfindahl index, `H`."
   ]
  },
  {
   "cell_type": "code",
   "execution_count": 14,
   "metadata": {
    "deletable": false,
    "nbgrader": {
     "checksum": "ab6179623b39a6ae634abea45326e4ab",
     "grade": true,
     "grade_id": "cell-9c39b11747803ca1",
     "locked": false,
     "points": 0.5,
     "schema_version": 1,
     "solution": true
    },
    "scrolled": true
   },
   "outputs": [
    {
     "data": {
      "text/html": [
       "<div>\n",
       "<style scoped>\n",
       "    .dataframe tbody tr th:only-of-type {\n",
       "        vertical-align: middle;\n",
       "    }\n",
       "\n",
       "    .dataframe tbody tr th {\n",
       "        vertical-align: top;\n",
       "    }\n",
       "\n",
       "    .dataframe thead th {\n",
       "        text-align: right;\n",
       "    }\n",
       "</style>\n",
       "<table border=\"1\" class=\"dataframe\">\n",
       "  <thead>\n",
       "    <tr style=\"text-align: right;\">\n",
       "      <th></th>\n",
       "      <th>c_merged_firm</th>\n",
       "      <th>output_merged_firm</th>\n",
       "      <th>output_non_merging_firm</th>\n",
       "      <th>Q</th>\n",
       "    </tr>\n",
       "  </thead>\n",
       "  <tbody>\n",
       "    <tr>\n",
       "      <th>0</th>\n",
       "      <td>0.099452</td>\n",
       "      <td>0.394866</td>\n",
       "      <td>0.152567</td>\n",
       "      <td>0.547433</td>\n",
       "    </tr>\n",
       "    <tr>\n",
       "      <th>1</th>\n",
       "      <td>0.101581</td>\n",
       "      <td>0.248477</td>\n",
       "      <td>0.225761</td>\n",
       "      <td>0.474239</td>\n",
       "    </tr>\n",
       "    <tr>\n",
       "      <th>2</th>\n",
       "      <td>0.010639</td>\n",
       "      <td>0.380898</td>\n",
       "      <td>0.159551</td>\n",
       "      <td>0.540449</td>\n",
       "    </tr>\n",
       "    <tr>\n",
       "      <th>3</th>\n",
       "      <td>0.040009</td>\n",
       "      <td>0.274841</td>\n",
       "      <td>0.212579</td>\n",
       "      <td>0.487421</td>\n",
       "    </tr>\n",
       "    <tr>\n",
       "      <th>4</th>\n",
       "      <td>0.206426</td>\n",
       "      <td>0.298623</td>\n",
       "      <td>0.200689</td>\n",
       "      <td>0.499311</td>\n",
       "    </tr>\n",
       "  </tbody>\n",
       "</table>\n",
       "</div>"
      ],
      "text/plain": [
       "   c_merged_firm  output_merged_firm  output_non_merging_firm         Q\n",
       "0       0.099452            0.394866                 0.152567  0.547433\n",
       "1       0.101581            0.248477                 0.225761  0.474239\n",
       "2       0.010639            0.380898                 0.159551  0.540449\n",
       "3       0.040009            0.274841                 0.212579  0.487421\n",
       "4       0.206426            0.298623                 0.200689  0.499311"
      ]
     },
     "execution_count": 14,
     "metadata": {},
     "output_type": "execute_result"
    }
   ],
   "source": [
    "df_after_merger['Q'] = df_after_merger['output_merged_firm'] + df_after_merger['output_non_merging_firm']\n",
    "df_after_merger.head()"
   ]
  },
  {
   "cell_type": "code",
   "execution_count": 15,
   "metadata": {
    "scrolled": true
   },
   "outputs": [
    {
     "data": {
      "text/html": [
       "<div>\n",
       "<style scoped>\n",
       "    .dataframe tbody tr th:only-of-type {\n",
       "        vertical-align: middle;\n",
       "    }\n",
       "\n",
       "    .dataframe tbody tr th {\n",
       "        vertical-align: top;\n",
       "    }\n",
       "\n",
       "    .dataframe thead th {\n",
       "        text-align: right;\n",
       "    }\n",
       "</style>\n",
       "<table border=\"1\" class=\"dataframe\">\n",
       "  <thead>\n",
       "    <tr style=\"text-align: right;\">\n",
       "      <th></th>\n",
       "      <th>c_merged_firm</th>\n",
       "      <th>output_merged_firm</th>\n",
       "      <th>output_non_merging_firm</th>\n",
       "      <th>Q</th>\n",
       "      <th>P</th>\n",
       "    </tr>\n",
       "  </thead>\n",
       "  <tbody>\n",
       "    <tr>\n",
       "      <th>0</th>\n",
       "      <td>0.099452</td>\n",
       "      <td>0.394866</td>\n",
       "      <td>0.152567</td>\n",
       "      <td>0.547433</td>\n",
       "      <td>0.452567</td>\n",
       "    </tr>\n",
       "    <tr>\n",
       "      <th>1</th>\n",
       "      <td>0.101581</td>\n",
       "      <td>0.248477</td>\n",
       "      <td>0.225761</td>\n",
       "      <td>0.474239</td>\n",
       "      <td>0.525761</td>\n",
       "    </tr>\n",
       "    <tr>\n",
       "      <th>2</th>\n",
       "      <td>0.010639</td>\n",
       "      <td>0.380898</td>\n",
       "      <td>0.159551</td>\n",
       "      <td>0.540449</td>\n",
       "      <td>0.459551</td>\n",
       "    </tr>\n",
       "    <tr>\n",
       "      <th>3</th>\n",
       "      <td>0.040009</td>\n",
       "      <td>0.274841</td>\n",
       "      <td>0.212579</td>\n",
       "      <td>0.487421</td>\n",
       "      <td>0.512579</td>\n",
       "    </tr>\n",
       "    <tr>\n",
       "      <th>4</th>\n",
       "      <td>0.206426</td>\n",
       "      <td>0.298623</td>\n",
       "      <td>0.200689</td>\n",
       "      <td>0.499311</td>\n",
       "      <td>0.500689</td>\n",
       "    </tr>\n",
       "  </tbody>\n",
       "</table>\n",
       "</div>"
      ],
      "text/plain": [
       "   c_merged_firm  output_merged_firm  output_non_merging_firm         Q  \\\n",
       "0       0.099452            0.394866                 0.152567  0.547433   \n",
       "1       0.101581            0.248477                 0.225761  0.474239   \n",
       "2       0.010639            0.380898                 0.159551  0.540449   \n",
       "3       0.040009            0.274841                 0.212579  0.487421   \n",
       "4       0.206426            0.298623                 0.200689  0.499311   \n",
       "\n",
       "          P  \n",
       "0  0.452567  \n",
       "1  0.525761  \n",
       "2  0.459551  \n",
       "3  0.512579  \n",
       "4  0.500689  "
      ]
     },
     "execution_count": 15,
     "metadata": {},
     "output_type": "execute_result"
    }
   ],
   "source": [
    "df_after_merger['P'] = 1 - df_after_merger['Q']\n",
    "df_after_merger.head()"
   ]
  },
  {
   "cell_type": "code",
   "execution_count": 16,
   "metadata": {},
   "outputs": [
    {
     "data": {
      "text/html": [
       "<div>\n",
       "<style scoped>\n",
       "    .dataframe tbody tr th:only-of-type {\n",
       "        vertical-align: middle;\n",
       "    }\n",
       "\n",
       "    .dataframe tbody tr th {\n",
       "        vertical-align: top;\n",
       "    }\n",
       "\n",
       "    .dataframe thead th {\n",
       "        text-align: right;\n",
       "    }\n",
       "</style>\n",
       "<table border=\"1\" class=\"dataframe\">\n",
       "  <thead>\n",
       "    <tr style=\"text-align: right;\">\n",
       "      <th></th>\n",
       "      <th>c_merged_firm</th>\n",
       "      <th>output_merged_firm</th>\n",
       "      <th>output_non_merging_firm</th>\n",
       "      <th>Q</th>\n",
       "      <th>P</th>\n",
       "      <th>H</th>\n",
       "    </tr>\n",
       "  </thead>\n",
       "  <tbody>\n",
       "    <tr>\n",
       "      <th>0</th>\n",
       "      <td>0.099452</td>\n",
       "      <td>0.394866</td>\n",
       "      <td>0.152567</td>\n",
       "      <td>0.547433</td>\n",
       "      <td>0.452567</td>\n",
       "      <td>0.597951</td>\n",
       "    </tr>\n",
       "    <tr>\n",
       "      <th>1</th>\n",
       "      <td>0.101581</td>\n",
       "      <td>0.248477</td>\n",
       "      <td>0.225761</td>\n",
       "      <td>0.474239</td>\n",
       "      <td>0.525761</td>\n",
       "      <td>0.501147</td>\n",
       "    </tr>\n",
       "    <tr>\n",
       "      <th>2</th>\n",
       "      <td>0.010639</td>\n",
       "      <td>0.380898</td>\n",
       "      <td>0.159551</td>\n",
       "      <td>0.540449</td>\n",
       "      <td>0.459551</td>\n",
       "      <td>0.583870</td>\n",
       "    </tr>\n",
       "    <tr>\n",
       "      <th>3</th>\n",
       "      <td>0.040009</td>\n",
       "      <td>0.274841</td>\n",
       "      <td>0.212579</td>\n",
       "      <td>0.487421</td>\n",
       "      <td>0.512579</td>\n",
       "      <td>0.508158</td>\n",
       "    </tr>\n",
       "    <tr>\n",
       "      <th>4</th>\n",
       "      <td>0.206426</td>\n",
       "      <td>0.298623</td>\n",
       "      <td>0.200689</td>\n",
       "      <td>0.499311</td>\n",
       "      <td>0.500689</td>\n",
       "      <td>0.519235</td>\n",
       "    </tr>\n",
       "  </tbody>\n",
       "</table>\n",
       "</div>"
      ],
      "text/plain": [
       "   c_merged_firm  output_merged_firm  output_non_merging_firm         Q  \\\n",
       "0       0.099452            0.394866                 0.152567  0.547433   \n",
       "1       0.101581            0.248477                 0.225761  0.474239   \n",
       "2       0.010639            0.380898                 0.159551  0.540449   \n",
       "3       0.040009            0.274841                 0.212579  0.487421   \n",
       "4       0.206426            0.298623                 0.200689  0.499311   \n",
       "\n",
       "          P         H  \n",
       "0  0.452567  0.597951  \n",
       "1  0.525761  0.501147  \n",
       "2  0.459551  0.583870  \n",
       "3  0.512579  0.508158  \n",
       "4  0.500689  0.519235  "
      ]
     },
     "execution_count": 16,
     "metadata": {},
     "output_type": "execute_result"
    }
   ],
   "source": [
    "df_after_merger['H'] = (df_after_merger['output_non_merging_firm']/df_after_merger['Q'])**2 + (df_after_merger['output_merged_firm']/df_after_merger['Q'])**2\n",
    "df_after_merger.head()"
   ]
  },
  {
   "cell_type": "markdown",
   "metadata": {},
   "source": [
    "#### e) [0.5 points] Make a histogram of the equilibrium price `P` after the merger. Also indicate in the histogram the equilibrium price before the merger `P0`. Label the horizontal axis with $P$.\n",
    "\n",
    "[hint: you may want to use matplotlib's `hist`, `vlines` and `legend` to make this graph (e.g use google to find these functions); but feel free to use something else]"
   ]
  },
  {
   "cell_type": "code",
   "execution_count": 17,
   "metadata": {
    "deletable": false,
    "nbgrader": {
     "checksum": "b103cd98545261b20f937f4b9db67f68",
     "grade": true,
     "grade_id": "cell-f9193bf8e71f1a9a",
     "locked": false,
     "points": 0.5,
     "schema_version": 1,
     "solution": true
    }
   },
   "outputs": [
    {
     "data": {
      "text/plain": [
       "<function matplotlib.pyplot.show>"
      ]
     },
     "execution_count": 17,
     "metadata": {},
     "output_type": "execute_result"
    },
    {
     "data": {
      "image/png": "[encoded data removed]",
      "text/plain": [
       "<matplotlib.figure.Figure at 0x150b2706d8>"
      ]
     },
     "metadata": {},
     "output_type": "display_data"
    }
   ],
   "source": [
    "plt.hist(df_after_merger['P'], bins=15, color='green')\n",
    "plt.hist(PO, range=(0.43,0.53))\n",
    "plt.title('equilibrium price')\n",
    "plt.xlabel('P')\n",
    "plt.ylabel('frequency')\n",
    "plt.show"
   ]
  },
  {
   "cell_type": "markdown",
   "metadata": {},
   "source": [
    "#### f) [0.5 points] Explain why sometimes the equilibrium price after the merger exceeds the equilibrium price before the merger and sometimes it is lower than the pre-merger price. [hint: there is a trade off between two effects, depending on which effect dominates, equilibrium price increases or decreases after the merger]"
   ]
  },
  {
   "cell_type": "markdown",
   "metadata": {
    "deletable": false,
    "nbgrader": {
     "checksum": "dd9fc721b7cf7f66587e93cbfb758034",
     "grade": true,
     "grade_id": "cell-7a1f367cd2854156",
     "locked": false,
     "points": 0.5,
     "schema_version": 1,
     "solution": true
    }
   },
   "source": [
    "after the merger there is less competition, so that can be a reason why the equilibrium price after the merger exceeds the equilibrium price before the merger. a reason why the pre-merger price can be higher, is because the merged firm has now more expertise and because of this expertise they can produce with a lower cost. If that is true they can set a lower equilibirum price, so that the merged firm can scare away the other firm. So it can gain more market share."
   ]
  },
  {
   "cell_type": "markdown",
   "metadata": {
    "deletable": false,
    "editable": false,
    "nbgrader": {
     "checksum": "e1e41dbf14c605bf91cdc78f70eada99",
     "grade": false,
     "grade_id": "cell-06ed6044f8938a45",
     "locked": true,
     "schema_version": 1,
     "solution": false
    }
   },
   "source": [
    "#### g) [0.5 points] Make a graph with the Herfindahl index on the horizontal axis and the equilibrium price on the vertical axis. This is straightforward for $(H,P)$ after the merger as both values are in the dataframe. Add in another color, the pre-merger combination `(H0,P0)` that we calculated above."
   ]
  },
  {
   "cell_type": "code",
   "execution_count": 18,
   "metadata": {},
   "outputs": [
    {
     "data": {
      "text/plain": [
       "Text(0.5,1,'Post-merger combination vs Pre-merger combination')"
      ]
     },
     "execution_count": 18,
     "metadata": {},
     "output_type": "execute_result"
    },
    {
     "data": {
      "image/png": "[encoded data removed]",
      "text/plain": [
       "<matplotlib.figure.Figure at 0x1514380588>"
      ]
     },
     "metadata": {},
     "output_type": "display_data"
    }
   ],
   "source": [
    "plt.plot(df_after_merger['H'], df_after_merger['P'], label = 'Post-merger combinations')\n",
    "plt.ylabel('P')\n",
    "plt.xlabel ('H')\n",
    "plt.scatter(0.33326667, 0.475, color = 'green', label = 'Pre-merger combination')\n",
    "plt.legend()\n",
    "plt.title('Post-merger combination vs Pre-merger combination')"
   ]
  },
  {
   "cell_type": "code",
   "execution_count": null,
   "metadata": {
    "deletable": false,
    "nbgrader": {
     "checksum": "51cfaacbaf533e85d9794bc74712afd5",
     "grade": true,
     "grade_id": "cell-d647464d04870b73",
     "locked": false,
     "points": 0.5,
     "schema_version": 1,
     "solution": true
    },
    "scrolled": true
   },
   "outputs": [],
   "source": []
  },
  {
   "cell_type": "markdown",
   "metadata": {
    "deletable": false,
    "editable": false,
    "nbgrader": {
     "checksum": "11b6609131b1c25886f2c6cafe0f7a59",
     "grade": false,
     "grade_id": "cell-5c5e5776a7c135a2",
     "locked": true,
     "schema_version": 1,
     "solution": false
    }
   },
   "source": [
    "#### h) [0.5 points] Use the graph under g) to discuss the relation between the Herfindahl index and the equilibrium price. To illustrate, some people think that lower values of the Herfindahl index are associated with more competitive outcome. Would you agree with this?"
   ]
  },
  {
   "cell_type": "markdown",
   "metadata": {
    "collapsed": true,
    "deletable": false,
    "nbgrader": {
     "checksum": "3d396887dde3b00420c623b9f4ea8ed2",
     "grade": true,
     "grade_id": "cell-cbd89d483b23a953",
     "locked": false,
     "points": 0.5,
     "schema_version": 1,
     "solution": true
    }
   },
   "source": [
    "When the Herfindahl index gets a lower value, the equilibrium price will decrease. "
   ]
  },
  {
   "cell_type": "markdown",
   "metadata": {},
   "source": [
    "## Github\n",
    "\n",
    "After you have finished, we need to upload this notebook on github. Make sure that you upload the file on the github page of each collaborator."
   ]
  },
  {
   "cell_type": "markdown",
   "metadata": {},
   "source": [
    "Instructions on how to upload this on github can be found [on this page](http://janboone.github.io/programming-for-economists/github.html). This page has two screencasts: one shows how to drag the notebook onto your github page, the other shows how you can use the command line to upload your notebook.\n"
   ]
  },
  {
   "cell_type": "markdown",
   "metadata": {},
   "source": [
    "Remember to update the README file in your repository to include a link to this notebook on github.\n",
    "\n",
    "\n",
    "The links that you should post start with “github.com/” and are NOT of the form “http://localhost”. Make sure you test your links after uploading."
   ]
  },
  {
   "cell_type": "code",
   "execution_count": null,
   "metadata": {},
   "outputs": [],
   "source": []
  }
 ],
 "metadata": {
  "anaconda-cloud": {},
  "kernelspec": {
   "display_name": "Python 3",
   "language": "python",
   "name": "python3"
  },
  "language_info": {
   "codemirror_mode": {
    "name": "ipython",
    "version": 3
   },
   "file_extension": ".py",
   "mimetype": "text/x-python",
   "name": "python",
   "nbconvert_exporter": "python",
   "pygments_lexer": "ipython3",
   "version": "3.6.4"
  }
 },
 "nbformat": 4,
 "nbformat_minor": 1
}
